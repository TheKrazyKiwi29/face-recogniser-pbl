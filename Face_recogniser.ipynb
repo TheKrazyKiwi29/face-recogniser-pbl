{
 "cells": [
  {
   "cell_type": "code",
   "execution_count": 1,
   "id": "7fc8db67-e70d-4f2f-a4be-e856182614ff",
   "metadata": {
    "id": "7fc8db67-e70d-4f2f-a4be-e856182614ff"
   },
   "outputs": [],
   "source": [
    "#1. Generate Dataset\n",
    "#2. Train the classifier nad save it\n",
    "#3. Detect the face and name it if its already saved in the dataset"
   ]
  },
  {
   "cell_type": "markdown",
   "id": "f6bc51d8-6fb5-4c6d-8599-d21f5213c429",
   "metadata": {
    "id": "f6bc51d8-6fb5-4c6d-8599-d21f5213c429"
   },
   "source": [
    "# Generate Dataset"
   ]
  },
  {
   "cell_type": "code",
   "execution_count": 2,
   "id": "a50cc324-932f-4303-ac44-7880287e01c9",
   "metadata": {
    "id": "a50cc324-932f-4303-ac44-7880287e01c9"
   },
   "outputs": [],
   "source": [
    "import cv2"
   ]
  },
  {
   "cell_type": "code",
   "execution_count": 3,
   "id": "6f38e7ee-4641-4933-aa79-38a4209c94be",
   "metadata": {
    "colab": {
     "base_uri": "https://localhost:8080/"
    },
    "id": "6f38e7ee-4641-4933-aa79-38a4209c94be",
    "outputId": "ef8951b0-3212-400a-c2ae-8907e5bcfbfd"
   },
   "outputs": [
    {
     "name": "stdout",
     "output_type": "stream",
     "text": [
      "Collecting Samples is completed.....\n"
     ]
    }
   ],
   "source": [
    "def generate_dataset():\n",
    "    face_classifier = cv2.CascadeClassifier(\"haarcascade_frontalface_default.xml\")\n",
    "\n",
    "    def face_cropped(img):\n",
    "        gray = cv2.cvtColor(img, cv2.COLOR_BGR2GRAY)\n",
    "        faces = face_classifier.detectMultiScale(gray, 1.3, 5)\n",
    "\n",
    "        if len(faces) == 0:  # Change is to == and check if the list is empty\n",
    "            return None\n",
    "        for (x, y, w, h) in faces:\n",
    "            cropped_face = img[y:y+h, x:x+w]\n",
    "            return cropped_face\n",
    "\n",
    "    cap = cv2.VideoCapture(0)\n",
    "    id = 1\n",
    "    img_id = 0\n",
    "\n",
    "    while True:\n",
    "        ret, frame = cap.read()\n",
    "\n",
    "        if not ret:\n",
    "            print(\"Failed to capture image\")\n",
    "            break\n",
    "\n",
    "        cropped_face = face_cropped(frame)\n",
    "        if cropped_face is not None:\n",
    "            img_id += 1\n",
    "            face = cv2.resize(cropped_face, (200, 200))\n",
    "            face = cv2.cvtColor(face, cv2.COLOR_BGR2GRAY)\n",
    "            file_name_path = \"data/user.\"+str(id)+\".\"+str(img_id)+\".jpg\"\n",
    "            cv2.imwrite(file_name_path, face)\n",
    "            cv2.putText(face, str(img_id), (50, 50), cv2.FONT_HERSHEY_COMPLEX, 1, (0, 255, 0), 2)\n",
    "            cv2.imshow(\"Cropped face\", face)\n",
    "\n",
    "            if cv2.waitKey(1) == 13 or int(img_id) == 200:\n",
    "                break\n",
    "\n",
    "    cap.release()\n",
    "    cv2.destroyAllWindows()\n",
    "    print(\"Collecting Samples is completed.....\")\n",
    "\n",
    "generate_dataset()"
   ]
  },
  {
   "cell_type": "markdown",
   "id": "463cb08e-6cdd-49fd-9eb7-47370cb21aa7",
   "metadata": {},
   "source": [
    "# Train the classifier and save it"
   ]
  },
  {
   "cell_type": "code",
   "execution_count": 4,
   "id": "a4925382-80f0-4d7b-96c5-69cb4814c11a",
   "metadata": {},
   "outputs": [],
   "source": [
    "import numpy as np\n",
    "from PIL import Image\n",
    "import os\n",
    "import cv2"
   ]
  },
  {
   "cell_type": "code",
   "execution_count": 5,
   "id": "2402fb28-f8bc-48e9-9e71-d72dbf3a73f5",
   "metadata": {},
   "outputs": [],
   "source": [
    "def train_classifier(data_dir):\n",
    "    path = [os.path.join(data_dir,f) for f in os.listdir(data_dir)]\n",
    "    faces = []\n",
    "    ids = []\n",
    "\n",
    "    for image in path:\n",
    "        img = Image.open(image).convert('L');\n",
    "        imageNp = np.array(img, 'uint8')\n",
    "        id = int(os.path.split(image)[1].split(\".\")[1])\n",
    "\n",
    "        faces.append(imageNp)\n",
    "        ids.append(id)\n",
    "    ids = np.array(ids)\n",
    "\n",
    "    #Train the classifier and save\n",
    "    clf = cv2.face.LBPHFaceRecognizer_create()\n",
    "    clf.train(faces,ids)\n",
    "    clf.write(\"classifier.xml\")\n",
    "train_classifier(\"data\")"
   ]
  },
  {
   "cell_type": "markdown",
   "id": "b8c72522-8e5c-406e-bed7-93eff908e4b6",
   "metadata": {},
   "source": [
    "# Detect the face and name it if its already stored in our dataset"
   ]
  },
  {
   "cell_type": "code",
   "execution_count": 6,
   "id": "e09b67af-4cd3-4ddd-b48c-d325f84bbb73",
   "metadata": {},
   "outputs": [],
   "source": [
    "import cv2\n",
    "import numpy as np\n",
    "from PIL import Image\n",
    "import os"
   ]
  },
  {
   "cell_type": "code",
   "execution_count": 18,
   "id": "cb070190-d6bb-4f6a-bb6d-df28336bbb56",
   "metadata": {},
   "outputs": [],
   "source": [
    "def draw_boundary(img,classifier,scaleFactor,minNeighbors,color,text,clf):\n",
    "    gray_image = cv2.cvtColor(img, cv2.COLOR_BGR2GRAY)\n",
    "    features = classifier.detectMultiScale(gray_image,scaleFactor,minNeighbors)\n",
    "\n",
    "    coords = []\n",
    "\n",
    "    for(x,y,w,h) in features:\n",
    "        cv2.rectangle(img,(x,y),(x+w,y+h),color,2)\n",
    "        id,pred = clf.predict(gray_image[y:y+h,x:x+w])\n",
    "        confidence = int(100*(1-pred/300))\n",
    "\n",
    "        if confidence>82:\n",
    "            if id==1:\n",
    "                cv2.putText(img,\"Sreejit\",(x,y-5),cv2.FONT_HERSHEY_SIMPLEX,0.8,color,1,cv2.LINE_AA)\n",
    "            if id==2:\n",
    "                cv2.putText(img,\"Skibidi\",(x,y-5),cv2.FONT_HERSHEY_SIMPLEX,0.8,color,1,cv2.LINE_AA)\n",
    "        else: \n",
    "            cv2.putText(img,\"UNKNOWN\",(x,y-5),cv2.FONT_HERSHEY_SIMPLEX,0.8,(0,0,255),1,cv2.LINE_AA)\n",
    "\n",
    "\n",
    "            coords=[x,y,w,h]\n",
    "        return coords\n",
    "\n",
    "def recognize(img,clf,faceCascade):\n",
    "    coords = draw_boundary(img,faceCascade,1.1,10,(255,255,255),\"Face\",clf)\n",
    "    return img\n",
    "    \n",
    "faceCascade = cv2.CascadeClassifier(\"haarcascade_frontalface_default.xml\")\n",
    "clf = cv2.face.LBPHFaceRecognizer_create()\n",
    "clf.read(\"classifier.xml\")\n",
    "\n",
    "video_capture = cv2.VideoCapture(0)\n",
    "\n",
    "while True:\n",
    "    ret,img = video_capture.read()\n",
    "    img = recognize(img,clf,faceCascade)\n",
    "    cv2.imshow(\"Face Detection\",img)\n",
    "\n",
    "    if cv2.waitKey(1)==13:\n",
    "        break\n",
    "\n",
    "video_capture.release()\n",
    "cv2.destroyAllWindows()\n",
    "\n",
    "# crop face, convert it into gray image ------> classifier\n",
    "# to draw rectangle, I have to give my real image that comes from my webcam"
   ]
  },
  {
   "cell_type": "code",
   "execution_count": null,
   "id": "6e99de09-6c65-429e-b384-e0e3215df548",
   "metadata": {},
   "outputs": [],
   "source": []
  },
  {
   "cell_type": "code",
   "execution_count": null,
   "id": "b25145aa-7f27-4068-becb-07c4e5505c76",
   "metadata": {},
   "outputs": [],
   "source": []
  }
 ],
 "metadata": {
  "colab": {
   "provenance": []
  },
  "kernelspec": {
   "display_name": "Python 3 (ipykernel)",
   "language": "python",
   "name": "python3"
  },
  "language_info": {
   "codemirror_mode": {
    "name": "ipython",
    "version": 3
   },
   "file_extension": ".py",
   "mimetype": "text/x-python",
   "name": "python",
   "nbconvert_exporter": "python",
   "pygments_lexer": "ipython3",
   "version": "3.12.4"
  }
 },
 "nbformat": 4,
 "nbformat_minor": 5
}
